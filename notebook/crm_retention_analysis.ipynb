{
  "cells": [
    {
      "cell_type": "markdown",
      "metadata": {
        "id": "view-in-github",
        "colab_type": "text"
      },
      "source": [
        "<a href=\"https://colab.research.google.com/github/hanbin-jun/crm-retention-dashboard/blob/main/notebook/crm_retention_analysis.ipynb\" target=\"_parent\"><img src=\"https://colab.research.google.com/assets/colab-badge.svg\" alt=\"Open In Colab\"/></a>"
      ]
    },
    {
      "cell_type": "markdown",
      "id": "dc3a6e34",
      "metadata": {
        "id": "dc3a6e34"
      },
      "source": [
        "**bold text**# CRM Retention Analysis\n",
        "\n",
        "Simulated CRM campaign analysis to evaluate delivery performance, CTR, and ROAS across channels."
      ]
    },
    {
      "cell_type": "markdown",
      "id": "60f7d2f8",
      "metadata": {
        "id": "60f7d2f8"
      },
      "source": [
        "## 1. Import Libraries"
      ]
    },
    {
      "cell_type": "code",
      "execution_count": null,
      "id": "433d07b1",
      "metadata": {
        "id": "433d07b1"
      },
      "outputs": [],
      "source": [
        "import pandas as pd\n",
        "import numpy as np\n",
        "import matplotlib.pyplot as plt\n",
        "import seaborn as sns\n",
        "from datetime import datetime"
      ]
    },
    {
      "cell_type": "markdown",
      "id": "c43ae4c0",
      "metadata": {
        "id": "c43ae4c0"
      },
      "source": [
        "## 2. Load Data"
      ]
    },
    {
      "cell_type": "code",
      "execution_count": null,
      "id": "b2233e17",
      "metadata": {
        "id": "b2233e17"
      },
      "outputs": [],
      "source": [
        "df = pd.read_csv('../data/raw/crm_raw_data_english.csv')\n",
        "df.head()"
      ]
    },
    {
      "cell_type": "markdown",
      "id": "aa5f87a6",
      "metadata": {
        "id": "aa5f87a6"
      },
      "source": [
        "## 3. Preprocessing"
      ]
    },
    {
      "cell_type": "code",
      "execution_count": null,
      "id": "590228f1",
      "metadata": {
        "id": "590228f1"
      },
      "outputs": [],
      "source": [
        "# Calculate delivery_rate, ctr, and roas\n",
        "df['delivery_rate'] = df['delivered'] / df['sent']\n",
        "df['ctr'] = df['clicks'] / df['impressions']\n",
        "df['roas'] = df['revenue'] / df['cost']\n",
        "\n",
        "# Handle NaNs and infinite values\n",
        "df['delivery_rate'] = df['delivery_rate'].fillna(0)\n",
        "df['ctr'] = df['ctr'].fillna(0)\n",
        "df['roas'] = df['roas'].replace([np.inf, -np.inf], np.nan)"
      ]
    },
    {
      "cell_type": "markdown",
      "id": "6102e436",
      "metadata": {
        "id": "6102e436"
      },
      "source": [
        "## 4. Basic EDA"
      ]
    },
    {
      "cell_type": "code",
      "execution_count": null,
      "id": "ba4be46c",
      "metadata": {
        "id": "ba4be46c"
      },
      "outputs": [],
      "source": [
        "df.describe()"
      ]
    },
    {
      "cell_type": "markdown",
      "id": "dfef93f0",
      "metadata": {
        "id": "dfef93f0"
      },
      "source": [
        "## 5. Visualization Ideas\n",
        "- Channel-wise CTR and ROAS\n",
        "- Time-series of daily metrics\n",
        "- Calendar heatmap by clicks or revenue\n",
        "\n",
        "*(To be done in Looker Studio; use this notebook for pre-aggregation if needed)*"
      ]
    }
  ],
  "metadata": {
    "colab": {
      "provenance": [],
      "include_colab_link": true
    }
  },
  "nbformat": 4,
  "nbformat_minor": 5
}